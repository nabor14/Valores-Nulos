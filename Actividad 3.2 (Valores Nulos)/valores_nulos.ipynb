{
 "cells": [
  {
   "cell_type": "code",
   "execution_count": 2,
   "metadata": {},
   "outputs": [],
   "source": [
    "import pandas as pd \n",
    "import numpy as np\n",
    "import matplotlib.pyplot as plt\n",
    "import seaborn as sns"
   ]
  },
  {
   "cell_type": "code",
   "execution_count": 3,
   "metadata": {},
   "outputs": [
    {
     "data": {
      "text/html": [
       "<div>\n",
       "<style scoped>\n",
       "    .dataframe tbody tr th:only-of-type {\n",
       "        vertical-align: middle;\n",
       "    }\n",
       "\n",
       "    .dataframe tbody tr th {\n",
       "        vertical-align: top;\n",
       "    }\n",
       "\n",
       "    .dataframe thead th {\n",
       "        text-align: right;\n",
       "    }\n",
       "</style>\n",
       "<table border=\"1\" class=\"dataframe\">\n",
       "  <thead>\n",
       "    <tr style=\"text-align: right;\">\n",
       "      <th></th>\n",
       "      <th>last_scraped</th>\n",
       "      <th>source</th>\n",
       "      <th>name</th>\n",
       "      <th>description</th>\n",
       "      <th>neighborhood_overview</th>\n",
       "      <th>host_name</th>\n",
       "      <th>host_since</th>\n",
       "      <th>host_location</th>\n",
       "      <th>host_about</th>\n",
       "      <th>host_response_time</th>\n",
       "      <th>...</th>\n",
       "      <th>review_scores_rating</th>\n",
       "      <th>review_scores_accuracy</th>\n",
       "      <th>review_scores_cleanliness</th>\n",
       "      <th>review_scores_checkin</th>\n",
       "      <th>review_scores_communication</th>\n",
       "      <th>review_scores_location</th>\n",
       "      <th>review_scores_value</th>\n",
       "      <th>instant_bookable</th>\n",
       "      <th>calculated_host_listings_count</th>\n",
       "      <th>reviews_per_month</th>\n",
       "    </tr>\n",
       "  </thead>\n",
       "  <tbody>\n",
       "    <tr>\n",
       "      <th>0</th>\n",
       "      <td>25/09/2024</td>\n",
       "      <td>city scrape</td>\n",
       "      <td>Fascinating Rio, on the hills!</td>\n",
       "      <td>NaN</td>\n",
       "      <td>NaN</td>\n",
       "      <td>Marcia  Longras</td>\n",
       "      <td>09/04/2011</td>\n",
       "      <td>Rio de Janeiro, Brazil</td>\n",
       "      <td>I'm a Brazilian lady, I was born in Rio de Jan...</td>\n",
       "      <td>within a few hours</td>\n",
       "      <td>...</td>\n",
       "      <td>4.69</td>\n",
       "      <td>4.82</td>\n",
       "      <td>4.58</td>\n",
       "      <td>4.73</td>\n",
       "      <td>4.85</td>\n",
       "      <td>4.64</td>\n",
       "      <td>4.64</td>\n",
       "      <td>f</td>\n",
       "      <td>11</td>\n",
       "      <td>0.22</td>\n",
       "    </tr>\n",
       "    <tr>\n",
       "      <th>1</th>\n",
       "      <td>25/09/2024</td>\n",
       "      <td>city scrape</td>\n",
       "      <td>STUDIO RIO LAPA CARNIVAL</td>\n",
       "      <td>The studio is in an excellent location ,  dire...</td>\n",
       "      <td>NaN</td>\n",
       "      <td>Erika</td>\n",
       "      <td>02/12/2011</td>\n",
       "      <td>Rio de Janeiro, Brazil</td>\n",
       "      <td>Sou Erika tenho 37 anos ,casada,  formada em  ...</td>\n",
       "      <td>within a day</td>\n",
       "      <td>...</td>\n",
       "      <td>4.67</td>\n",
       "      <td>5.00</td>\n",
       "      <td>4.00</td>\n",
       "      <td>4.67</td>\n",
       "      <td>5.00</td>\n",
       "      <td>4.67</td>\n",
       "      <td>4.67</td>\n",
       "      <td>f</td>\n",
       "      <td>3</td>\n",
       "      <td>0.02</td>\n",
       "    </tr>\n",
       "    <tr>\n",
       "      <th>2</th>\n",
       "      <td>26/09/2024</td>\n",
       "      <td>city scrape</td>\n",
       "      <td>5 min a pÃ© - Praia de Copacabana, MetrÃ´, WiFi I</td>\n",
       "      <td>Bedroom and living room, with a private bathro...</td>\n",
       "      <td>We are in Copacabana on the border with Ipanem...</td>\n",
       "      <td>Renato / Louri</td>\n",
       "      <td>18/03/2011</td>\n",
       "      <td>Rio de Janeiro, Brazil</td>\n",
       "      <td>*French version below \\r\\n\\r\\nWe host internat...</td>\n",
       "      <td>within an hour</td>\n",
       "      <td>...</td>\n",
       "      <td>4.71</td>\n",
       "      <td>4.82</td>\n",
       "      <td>4.79</td>\n",
       "      <td>4.82</td>\n",
       "      <td>4.88</td>\n",
       "      <td>4.41</td>\n",
       "      <td>4.65</td>\n",
       "      <td>f</td>\n",
       "      <td>6</td>\n",
       "      <td>0.22</td>\n",
       "    </tr>\n",
       "    <tr>\n",
       "      <th>3</th>\n",
       "      <td>25/09/2024</td>\n",
       "      <td>city scrape</td>\n",
       "      <td>Quintal da Lagoa -  RefÃºgio Secreto quase Ipa...</td>\n",
       "      <td>Our apartment is the perfect choice for those ...</td>\n",
       "      <td>Lagoa is a charming neighborhood very close to...</td>\n",
       "      <td>Nilda</td>\n",
       "      <td>06/09/2011</td>\n",
       "      <td>Rio de Janeiro, Brazil</td>\n",
       "      <td>Gosto de conhecer  pessoas e novas culturas e ...</td>\n",
       "      <td>within an hour</td>\n",
       "      <td>...</td>\n",
       "      <td>5.00</td>\n",
       "      <td>4.94</td>\n",
       "      <td>5.00</td>\n",
       "      <td>5.00</td>\n",
       "      <td>5.00</td>\n",
       "      <td>4.83</td>\n",
       "      <td>4.92</td>\n",
       "      <td>f</td>\n",
       "      <td>1</td>\n",
       "      <td>0.51</td>\n",
       "    </tr>\n",
       "    <tr>\n",
       "      <th>4</th>\n",
       "      <td>25/09/2024</td>\n",
       "      <td>city scrape</td>\n",
       "      <td>Rio, hospedagem e tranquilidade</td>\n",
       "      <td>NaN</td>\n",
       "      <td>Quiet neighbors, family building</td>\n",
       "      <td>Jaqueline</td>\n",
       "      <td>04/12/2011</td>\n",
       "      <td>Rio de Janeiro, Brazil</td>\n",
       "      <td>SimpÃ¡tica e gosto de novos amigos. Meu lazer...</td>\n",
       "      <td>within a day</td>\n",
       "      <td>...</td>\n",
       "      <td>4.68</td>\n",
       "      <td>4.80</td>\n",
       "      <td>4.76</td>\n",
       "      <td>4.80</td>\n",
       "      <td>4.83</td>\n",
       "      <td>4.77</td>\n",
       "      <td>4.60</td>\n",
       "      <td>f</td>\n",
       "      <td>1</td>\n",
       "      <td>0.24</td>\n",
       "    </tr>\n",
       "  </tbody>\n",
       "</table>\n",
       "<p>5 rows × 50 columns</p>\n",
       "</div>"
      ],
      "text/plain": [
       "  last_scraped       source  \\\n",
       "0   25/09/2024  city scrape   \n",
       "1   25/09/2024  city scrape   \n",
       "2   26/09/2024  city scrape   \n",
       "3   25/09/2024  city scrape   \n",
       "4   25/09/2024  city scrape   \n",
       "\n",
       "                                                name  \\\n",
       "0                     Fascinating Rio, on the hills!   \n",
       "1                           STUDIO RIO LAPA CARNIVAL   \n",
       "2  5 min a pÃ© - Praia de Copacabana, MetrÃ´, WiFi I   \n",
       "3  Quintal da Lagoa -  RefÃºgio Secreto quase Ipa...   \n",
       "4                    Rio, hospedagem e tranquilidade   \n",
       "\n",
       "                                         description  \\\n",
       "0                                                NaN   \n",
       "1  The studio is in an excellent location ,  dire...   \n",
       "2  Bedroom and living room, with a private bathro...   \n",
       "3  Our apartment is the perfect choice for those ...   \n",
       "4                                                NaN   \n",
       "\n",
       "                               neighborhood_overview        host_name  \\\n",
       "0                                                NaN  Marcia  Longras   \n",
       "1                                                NaN            Erika   \n",
       "2  We are in Copacabana on the border with Ipanem...   Renato / Louri   \n",
       "3  Lagoa is a charming neighborhood very close to...            Nilda   \n",
       "4                   Quiet neighbors, family building        Jaqueline   \n",
       "\n",
       "   host_since           host_location  \\\n",
       "0  09/04/2011  Rio de Janeiro, Brazil   \n",
       "1  02/12/2011  Rio de Janeiro, Brazil   \n",
       "2  18/03/2011  Rio de Janeiro, Brazil   \n",
       "3  06/09/2011  Rio de Janeiro, Brazil   \n",
       "4  04/12/2011  Rio de Janeiro, Brazil   \n",
       "\n",
       "                                          host_about  host_response_time  ...  \\\n",
       "0  I'm a Brazilian lady, I was born in Rio de Jan...  within a few hours  ...   \n",
       "1  Sou Erika tenho 37 anos ,casada,  formada em  ...        within a day  ...   \n",
       "2  *French version below \\r\\n\\r\\nWe host internat...      within an hour  ...   \n",
       "3  Gosto de conhecer  pessoas e novas culturas e ...      within an hour  ...   \n",
       "4   SimpÃ¡tica e gosto de novos amigos. Meu lazer...        within a day  ...   \n",
       "\n",
       "  review_scores_rating review_scores_accuracy review_scores_cleanliness  \\\n",
       "0                 4.69                   4.82                      4.58   \n",
       "1                 4.67                   5.00                      4.00   \n",
       "2                 4.71                   4.82                      4.79   \n",
       "3                 5.00                   4.94                      5.00   \n",
       "4                 4.68                   4.80                      4.76   \n",
       "\n",
       "   review_scores_checkin  review_scores_communication review_scores_location  \\\n",
       "0                   4.73                         4.85                   4.64   \n",
       "1                   4.67                         5.00                   4.67   \n",
       "2                   4.82                         4.88                   4.41   \n",
       "3                   5.00                         5.00                   4.83   \n",
       "4                   4.80                         4.83                   4.77   \n",
       "\n",
       "  review_scores_value instant_bookable calculated_host_listings_count  \\\n",
       "0                4.64                f                             11   \n",
       "1                4.67                f                              3   \n",
       "2                4.65                f                              6   \n",
       "3                4.92                f                              1   \n",
       "4                4.60                f                              1   \n",
       "\n",
       "  reviews_per_month  \n",
       "0              0.22  \n",
       "1              0.02  \n",
       "2              0.22  \n",
       "3              0.51  \n",
       "4              0.24  \n",
       "\n",
       "[5 rows x 50 columns]"
      ]
     },
     "execution_count": 3,
     "metadata": {},
     "output_type": "execute_result"
    }
   ],
   "source": [
    "data=pd.read_csv('Rio_de_Janeiro_Brasil.csv' , encoding='latin-1')\n",
    "data.head(5)"
   ]
  },
  {
   "cell_type": "code",
   "execution_count": 4,
   "metadata": {},
   "outputs": [
    {
     "name": "stdout",
     "output_type": "stream",
     "text": [
      "<class 'pandas.core.frame.DataFrame'>\n",
      "RangeIndex: 36967 entries, 0 to 36966\n",
      "Data columns (total 50 columns):\n",
      " #   Column                          Non-Null Count  Dtype  \n",
      "---  ------                          --------------  -----  \n",
      " 0   last_scraped                    36967 non-null  object \n",
      " 1   source                          36967 non-null  object \n",
      " 2   name                            36967 non-null  object \n",
      " 3   description                     35760 non-null  object \n",
      " 4   neighborhood_overview           16949 non-null  object \n",
      " 5   host_name                       36967 non-null  object \n",
      " 6   host_since                      36967 non-null  object \n",
      " 7   host_location                   29769 non-null  object \n",
      " 8   host_about                      17513 non-null  object \n",
      " 9   host_response_time              31899 non-null  object \n",
      " 10  host_response_rate              31899 non-null  object \n",
      " 11  host_acceptance_rate            33344 non-null  object \n",
      " 12  host_is_superhost               36001 non-null  object \n",
      " 13  host_listings_count             36967 non-null  int64  \n",
      " 14  host_total_listings_count       36967 non-null  int64  \n",
      " 15  host_verifications              36967 non-null  object \n",
      " 16  host_has_profile_pic            36967 non-null  object \n",
      " 17  host_identity_verified          36967 non-null  object \n",
      " 18  neighbourhood_cleansed          36967 non-null  object \n",
      " 19  property_type                   36967 non-null  object \n",
      " 20  room_type                       36967 non-null  object \n",
      " 21  accommodates                    36967 non-null  int64  \n",
      " 22  bathrooms                       35220 non-null  float64\n",
      " 23  bedrooms                        36636 non-null  float64\n",
      " 24  beds                            35231 non-null  float64\n",
      " 25  amenities                       36967 non-null  object \n",
      " 26  price                           35223 non-null  object \n",
      " 27  minimum_nights                  36967 non-null  int64  \n",
      " 28  maximum_nights                  36967 non-null  int64  \n",
      " 29  minimum_nights_avg_ntm          36967 non-null  float64\n",
      " 30  maximum_nights_avg_ntm          36967 non-null  float64\n",
      " 31  has_availability                36628 non-null  object \n",
      " 32  availability_30                 36967 non-null  int64  \n",
      " 33  availability_60                 36967 non-null  int64  \n",
      " 34  availability_90                 36967 non-null  int64  \n",
      " 35  availability_365                36967 non-null  int64  \n",
      " 36  number_of_reviews_ltm           36967 non-null  int64  \n",
      " 37  number_of_reviews_l30d          36967 non-null  int64  \n",
      " 38  first_review                    28036 non-null  object \n",
      " 39  last_review                     28036 non-null  object \n",
      " 40  review_scores_rating            28036 non-null  float64\n",
      " 41  review_scores_accuracy          28035 non-null  float64\n",
      " 42  review_scores_cleanliness       28036 non-null  float64\n",
      " 43  review_scores_checkin           28035 non-null  float64\n",
      " 44  review_scores_communication     28035 non-null  float64\n",
      " 45  review_scores_location          28035 non-null  float64\n",
      " 46  review_scores_value             28033 non-null  float64\n",
      " 47  instant_bookable                36967 non-null  object \n",
      " 48  calculated_host_listings_count  36967 non-null  int64  \n",
      " 49  reviews_per_month               28036 non-null  float64\n",
      "dtypes: float64(13), int64(12), object(25)\n",
      "memory usage: 14.1+ MB\n"
     ]
    }
   ],
   "source": [
    "data.info()"
   ]
  },
  {
   "cell_type": "code",
   "execution_count": 5,
   "metadata": {},
   "outputs": [
    {
     "data": {
      "text/plain": [
       "last_scraped                          0\n",
       "source                                0\n",
       "name                                  0\n",
       "description                        1207\n",
       "neighborhood_overview             20018\n",
       "host_name                             0\n",
       "host_since                            0\n",
       "host_location                      7198\n",
       "host_about                        19454\n",
       "host_response_time                 5068\n",
       "host_response_rate                 5068\n",
       "host_acceptance_rate               3623\n",
       "host_is_superhost                   966\n",
       "host_listings_count                   0\n",
       "host_total_listings_count             0\n",
       "host_verifications                    0\n",
       "host_has_profile_pic                  0\n",
       "host_identity_verified                0\n",
       "neighbourhood_cleansed                0\n",
       "property_type                         0\n",
       "room_type                             0\n",
       "accommodates                          0\n",
       "bathrooms                          1747\n",
       "bedrooms                            331\n",
       "beds                               1736\n",
       "amenities                             0\n",
       "price                              1744\n",
       "minimum_nights                        0\n",
       "maximum_nights                        0\n",
       "minimum_nights_avg_ntm                0\n",
       "maximum_nights_avg_ntm                0\n",
       "has_availability                    339\n",
       "availability_30                       0\n",
       "availability_60                       0\n",
       "availability_90                       0\n",
       "availability_365                      0\n",
       "number_of_reviews_ltm                 0\n",
       "number_of_reviews_l30d                0\n",
       "first_review                       8931\n",
       "last_review                        8931\n",
       "review_scores_rating               8931\n",
       "review_scores_accuracy             8932\n",
       "review_scores_cleanliness          8931\n",
       "review_scores_checkin              8932\n",
       "review_scores_communication        8932\n",
       "review_scores_location             8932\n",
       "review_scores_value                8934\n",
       "instant_bookable                      0\n",
       "calculated_host_listings_count        0\n",
       "reviews_per_month                  8931\n",
       "dtype: int64"
      ]
     },
     "execution_count": 5,
     "metadata": {},
     "output_type": "execute_result"
    }
   ],
   "source": [
    "#identificar valores nulos por columna\n",
    "valores_nulos=data.isnull().sum()\n",
    "valores_nulos"
   ]
  },
  {
   "cell_type": "code",
   "execution_count": 6,
   "metadata": {},
   "outputs": [
    {
     "data": {
      "text/plain": [
       "np.int64(157816)"
      ]
     },
     "execution_count": 6,
     "metadata": {},
     "output_type": "execute_result"
    }
   ],
   "source": [
    "#valores nulos por dataframe\n",
    "valores_nulos=data.isnull().sum().sum()\n",
    "valores_nulos"
   ]
  },
  {
   "cell_type": "code",
   "execution_count": 10,
   "metadata": {},
   "outputs": [],
   "source": [
    "data2=data.copy()"
   ]
  },
  {
   "cell_type": "code",
   "execution_count": 27,
   "metadata": {},
   "outputs": [],
   "source": [
    "#description\n",
    "#Rellenamos aquellas valores nulos con una descripcion especifica que puede quedar\n",
    "#muy bien con cualquier propiedad\n",
    "data2[\"description\"]=data2[\"description\"].fillna(\"An exceptional choice for a relaxing stay, offering comfort, convenience, and a memorable experience in your destination.\")"
   ]
  },
  {
   "cell_type": "code",
   "execution_count": 28,
   "metadata": {},
   "outputs": [],
   "source": [
    "#neighborhood_overview\n",
    "#Rellenamos aquellas valores nulos con una descripcion especifica que puede quedar\n",
    "#muy bien con cualquier ciudad o locacion de barzil\n",
    "data2[\"neighborhood_overview\"]=data2[\"neighborhood_overview\"].fillna(\"Quiet and safe area, with the charm and vibrancy of a typical Brazilian neighborhood in Rio de Janeiro.\")"
   ]
  },
  {
   "cell_type": "code",
   "execution_count": 29,
   "metadata": {},
   "outputs": [],
   "source": [
    "#host_location\n",
    "#Como estamos tratando los datos de Rio de Janeiro, aquellos valores nulos\n",
    "#los rellenamos con el valor \"Rio de Janeiro, Brasil\"\n",
    "data2[\"host_location\"]=data2[\"host_location\"].fillna(\"Rio de Janeiro, Brasil\")"
   ]
  },
  {
   "cell_type": "code",
   "execution_count": 30,
   "metadata": {},
   "outputs": [],
   "source": [
    "#host_about\n",
    "#Rellenamos aquellas valores nulos con una descripcion especifica\n",
    "#acerca de un host amable\n",
    "data2[\"host_about\"]=data2[\"host_about\"].fillna(\"I am a sociable person who enjoys delivering excellent customer service. I love providing advice and recommendations to ensure guests find everything they need in a suite, making them feel comfortable and truly at home.\")"
   ]
  },
  {
   "cell_type": "code",
   "execution_count": 15,
   "metadata": {},
   "outputs": [],
   "source": [
    "#host_response_time\n",
    "#Ya que la mayoria de los host tienen un tiempo de respuesta de un día\n",
    "#decidimos rellenar aquellos valores nulos con \"within a day\"\n",
    "data2[\"host_response_time\"]=data2[\"host_response_time\"].fillna(\"within a day\")"
   ]
  },
  {
   "cell_type": "code",
   "execution_count": 16,
   "metadata": {},
   "outputs": [],
   "source": [
    "#host_response_rate\n",
    "#en este caso los datos contenían un simbolo % que no nos permitia obtener\n",
    "#el promedio de los datos por lo que primero eliminamos ese simbolo\n",
    "data2['host_response_rate'] = data2['host_response_rate'].astype(str)\n",
    "#convertir a tipo numérico (float)\n",
    "host_response_numeric = data2['host_response_rate'].str.rstrip('%').astype(float)\n",
    "# Calcular el promedio ignorando valores nulos\n",
    "mean_response_rate = host_response_numeric.mean()\n",
    "#rellenamos los valores nulos con el promedio que obtuvimos de los datos\n",
    "host_response_numeric = host_response_numeric.fillna(mean_response_rate)\n",
    "# Convertir nuevamente a formato de porcentaje y actualizar la columna original\n",
    "data2['host_response_rate'] = host_response_numeric.apply(lambda x: f\"{x:.0f}%\")\n"
   ]
  },
  {
   "cell_type": "code",
   "execution_count": 17,
   "metadata": {},
   "outputs": [],
   "source": [
    "#host_acceptance_rate \n",
    "# en este caso los datos contenían un simbolo % que no nos permitia obtener\n",
    "#el promedio de los datos por lo que primero eliminamos ese simbolo\n",
    "data2['host_acceptance_rate'] = data2['host_acceptance_rate'].astype(str)\n",
    "#convertir a tipo numérico (float)\n",
    "host_acceptance_numeric = data2['host_acceptance_rate'].str.rstrip('%').astype(float)\n",
    "# Calcular el promedio ignorando valores nulos\n",
    "mean_acceptance_rate = host_acceptance_numeric.mean()\n",
    "#rellenamos los valores nulos con el promedio que obtuvimos de los datos\n",
    "host_acceptance_numeric = host_acceptance_numeric.fillna(mean_acceptance_rate)\n",
    "# Convertir nuevamente a formato de porcentaje y actualizar la columna original\n",
    "data2['host_acceptance_rate'] = host_acceptance_numeric.apply(lambda x: f\"{x:.0f}%\")"
   ]
  },
  {
   "cell_type": "code",
   "execution_count": 18,
   "metadata": {},
   "outputs": [],
   "source": [
    "#host_is_superhost\n",
    "#ya que para ser superhost se necesitan verificaciones es mejor\n",
    "#rellenar aquellos valores nulos con false\n",
    "data2[\"host_is_superhost\"]=data2[\"host_is_superhost\"].fillna(\"f\")"
   ]
  },
  {
   "cell_type": "code",
   "execution_count": 19,
   "metadata": {},
   "outputs": [],
   "source": [
    "#bathrooms\n",
    "# #usamos median para no alterar significativamente los datos ya que son muy variados\n",
    "data2[\"bathrooms\"]=data2[\"bathrooms\"].fillna(round(data[\"bathrooms\"].median(),1)) "
   ]
  },
  {
   "cell_type": "code",
   "execution_count": 20,
   "metadata": {},
   "outputs": [],
   "source": [
    "#bedrooms \n",
    "#usamos median para no alterar significativamente los datos porque son variados\n",
    "data2[\"bedrooms\"]=data2[\"bedrooms\"].fillna(round(data[\"bedrooms\"].median(),1))"
   ]
  },
  {
   "cell_type": "code",
   "execution_count": 21,
   "metadata": {},
   "outputs": [],
   "source": [
    "#beds\n",
    "#usamos median para no alterar significativamente los datos\n",
    "data2[\"beds\"]=data2[\"beds\"].fillna(round(data[\"beds\"].median(),1))"
   ]
  },
  {
   "cell_type": "code",
   "execution_count": 22,
   "metadata": {},
   "outputs": [],
   "source": [
    "#review_scores_value\n",
    "#como los datos frecuentuan cierta parcularidad usamos medain\n",
    "data2[\"review_scores_value\"]=data2[\"review_scores_value\"].fillna(round(data[\"review_scores_value\"].median(),1))"
   ]
  },
  {
   "cell_type": "code",
   "execution_count": 23,
   "metadata": {},
   "outputs": [],
   "source": [
    "#reviews_per_month \n",
    "#como los datos frecuentuan cierta parcularidad usamos medain\n",
    "data2[\"reviews_per_month\"]=data2[\"reviews_per_month\"].fillna(round(data[\"reviews_per_month\"].median(),1))"
   ]
  },
  {
   "cell_type": "code",
   "execution_count": 25,
   "metadata": {},
   "outputs": [
    {
     "data": {
      "text/plain": [
       "last_scraped                         0\n",
       "source                               0\n",
       "name                                 0\n",
       "description                          0\n",
       "neighborhood_overview                0\n",
       "host_name                            0\n",
       "host_since                           0\n",
       "host_location                        0\n",
       "host_about                           0\n",
       "host_response_time                   0\n",
       "host_response_rate                   0\n",
       "host_acceptance_rate                 0\n",
       "host_is_superhost                    0\n",
       "host_listings_count                  0\n",
       "host_total_listings_count            0\n",
       "host_verifications                   0\n",
       "host_has_profile_pic                 0\n",
       "host_identity_verified               0\n",
       "neighbourhood_cleansed               0\n",
       "property_type                        0\n",
       "room_type                            0\n",
       "accommodates                         0\n",
       "bathrooms                            0\n",
       "bedrooms                             0\n",
       "beds                                 0\n",
       "amenities                            0\n",
       "price                             1744\n",
       "minimum_nights                       0\n",
       "maximum_nights                       0\n",
       "minimum_nights_avg_ntm               0\n",
       "maximum_nights_avg_ntm               0\n",
       "has_availability                   339\n",
       "availability_30                      0\n",
       "availability_60                      0\n",
       "availability_90                      0\n",
       "availability_365                     0\n",
       "number_of_reviews_ltm                0\n",
       "number_of_reviews_l30d               0\n",
       "first_review                      8931\n",
       "last_review                       8931\n",
       "review_scores_rating              8931\n",
       "review_scores_accuracy            8932\n",
       "review_scores_cleanliness         8931\n",
       "review_scores_checkin             8932\n",
       "review_scores_communication       8932\n",
       "review_scores_location            8932\n",
       "review_scores_value                  0\n",
       "instant_bookable                     0\n",
       "calculated_host_listings_count       0\n",
       "reviews_per_month                    0\n",
       "dtype: int64"
      ]
     },
     "execution_count": 25,
     "metadata": {},
     "output_type": "execute_result"
    }
   ],
   "source": [
    "#identificar valores nulos por columna\n",
    "valores_nulos=data2.isnull().sum()\n",
    "valores_nulos"
   ]
  },
  {
   "cell_type": "code",
   "execution_count": 26,
   "metadata": {},
   "outputs": [
    {
     "data": {
      "text/plain": [
       "np.int64(73535)"
      ]
     },
     "execution_count": 26,
     "metadata": {},
     "output_type": "execute_result"
    }
   ],
   "source": [
    "#identificar valores nulos por columna\n",
    "valores_nulos=data2.isnull().sum().sum()\n",
    "valores_nulos"
   ]
  },
  {
   "cell_type": "code",
   "execution_count": null,
   "metadata": {},
   "outputs": [],
   "source": [
    "#price\n",
    "#usamos median porque los numeros son muy grandes\n",
    "#asegurar que todos los valores sean cadenas\n",
    "data2[\"price\"] = data2[\"price\"].astype(str)\n",
    "#Eliminar las simbolos no numericos $ ,\n",
    "data2[\"price\"] = data2[\"price\"].str.replace('[\\$,]', '', regex=True)\n",
    "#Convertir a numérico\n",
    "data2[\"price\"] = pd.to_numeric(data2[\"price\"], errors='coerce')\n",
    "data2[\"price\"] = data2[\"price\"].fillna(round(data2[\"price\"].median(), 1))"
   ]
  },
  {
   "cell_type": "code",
   "execution_count": 32,
   "metadata": {},
   "outputs": [],
   "source": [
    "#has_availability la mayoria es t agregamos ese valor en especifico\n",
    "#ya que para ser has_hability se necesitan verificaciones es mejor\n",
    "#rellenar aquellos valores nulos con false para no perjudicar los que son true\n",
    "data2[\"has_availability\"]=data2[\"has_availability\"].fillna(\"f\")"
   ]
  },
  {
   "cell_type": "code",
   "execution_count": 43,
   "metadata": {},
   "outputs": [],
   "source": [
    "#first_review rellenar con una fecha con la que sepan que no hay review y se tome como inexistente\n",
    "data2[\"first_review\"] = data2[\"first_review\"].fillna(pd.Timestamp(\"1900-01-01\"))"
   ]
  },
  {
   "cell_type": "code",
   "execution_count": 33,
   "metadata": {},
   "outputs": [],
   "source": [
    "#first_review rellenar con una fecha con la que sepan que no hay review y se tome como inexistente\n",
    "data2[\"last_review\"] = data2[\"last_review\"].fillna(pd.Timestamp(\"1900-01-01\"))"
   ]
  },
  {
   "cell_type": "code",
   "execution_count": 34,
   "metadata": {},
   "outputs": [],
   "source": [
    "#review_scores_rating\n",
    "#usamos median para no alterar significativamente los datos\n",
    "data2[\"review_scores_rating\"]=data2[\"review_scores_rating\"].fillna(round(data[\"review_scores_rating\"].median(),1))"
   ]
  },
  {
   "cell_type": "code",
   "execution_count": 35,
   "metadata": {},
   "outputs": [],
   "source": [
    "#review_scores_accuracy\n",
    "#usamos mean porque los valores son muy similares y asi no se afecta el promedio \n",
    "data2[\"review_scores_accuracy\"]=data2[\"review_scores_accuracy\"].fillna(round(data[\"review_scores_accuracy\"].mean(),1))"
   ]
  },
  {
   "cell_type": "code",
   "execution_count": 38,
   "metadata": {},
   "outputs": [],
   "source": [
    "#review_scores_cleanliness \n",
    "#usamos mean porque los valores son muy similares y asi no se afecta el promedio \n",
    "data2[\"review_scores_cleanliness\"]=data2[\"review_scores_cleanliness\"].fillna(round(data[\"review_scores_cleanliness\"].mean(),1))"
   ]
  },
  {
   "cell_type": "code",
   "execution_count": 39,
   "metadata": {},
   "outputs": [],
   "source": [
    "#review_scores_checkin\n",
    "#usamos mean porque los valores son muy similares y asi no se afecta el promedio \n",
    "data2[\"review_scores_checkin\"]=data2[\"review_scores_checkin\"].fillna(round(data[\"review_scores_checkin\"].mean(),1))"
   ]
  },
  {
   "cell_type": "code",
   "execution_count": 40,
   "metadata": {},
   "outputs": [],
   "source": [
    "#review_scores_communication\n",
    "#usamos mean porque los valores son muy similares y asi no se afecta el promedio \n",
    "data2[\"review_scores_communication\"]=data2[\"review_scores_communication\"].fillna(round(data[\"review_scores_communication\"].mean(),1))"
   ]
  },
  {
   "cell_type": "code",
   "execution_count": 41,
   "metadata": {},
   "outputs": [],
   "source": [
    "#review_scores_accuracy\n",
    "#usamos mean porque los valores son muy similares y asi no se afecta el promedio \n",
    "data2[\"review_scores_location\"]=data2[\"review_scores_location\"].fillna(round(data[\"review_scores_location\"].mean(),1))"
   ]
  },
  {
   "cell_type": "code",
   "execution_count": 44,
   "metadata": {},
   "outputs": [
    {
     "data": {
      "text/plain": [
       "last_scraped                      0\n",
       "source                            0\n",
       "name                              0\n",
       "description                       0\n",
       "neighborhood_overview             0\n",
       "host_name                         0\n",
       "host_since                        0\n",
       "host_location                     0\n",
       "host_about                        0\n",
       "host_response_time                0\n",
       "host_response_rate                0\n",
       "host_acceptance_rate              0\n",
       "host_is_superhost                 0\n",
       "host_listings_count               0\n",
       "host_total_listings_count         0\n",
       "host_verifications                0\n",
       "host_has_profile_pic              0\n",
       "host_identity_verified            0\n",
       "neighbourhood_cleansed            0\n",
       "property_type                     0\n",
       "room_type                         0\n",
       "accommodates                      0\n",
       "bathrooms                         0\n",
       "bedrooms                          0\n",
       "beds                              0\n",
       "amenities                         0\n",
       "price                             0\n",
       "minimum_nights                    0\n",
       "maximum_nights                    0\n",
       "minimum_nights_avg_ntm            0\n",
       "maximum_nights_avg_ntm            0\n",
       "has_availability                  0\n",
       "availability_30                   0\n",
       "availability_60                   0\n",
       "availability_90                   0\n",
       "availability_365                  0\n",
       "number_of_reviews_ltm             0\n",
       "number_of_reviews_l30d            0\n",
       "first_review                      0\n",
       "last_review                       0\n",
       "review_scores_rating              0\n",
       "review_scores_accuracy            0\n",
       "review_scores_cleanliness         0\n",
       "review_scores_checkin             0\n",
       "review_scores_communication       0\n",
       "review_scores_location            0\n",
       "review_scores_value               0\n",
       "instant_bookable                  0\n",
       "calculated_host_listings_count    0\n",
       "reviews_per_month                 0\n",
       "dtype: int64"
      ]
     },
     "execution_count": 44,
     "metadata": {},
     "output_type": "execute_result"
    }
   ],
   "source": [
    "#revisamos valores nulos \n",
    "valores_nulos=data2.isnull().sum()\n",
    "valores_nulos"
   ]
  },
  {
   "cell_type": "code",
   "execution_count": 45,
   "metadata": {},
   "outputs": [
    {
     "data": {
      "text/plain": [
       "np.int64(0)"
      ]
     },
     "execution_count": 45,
     "metadata": {},
     "output_type": "execute_result"
    }
   ],
   "source": [
    "#revisamos valores de todo el dataframe\n",
    "valores_nulos=data2.isnull().sum().sum()\n",
    "valores_nulos"
   ]
  },
  {
   "cell_type": "code",
   "execution_count": 46,
   "metadata": {},
   "outputs": [],
   "source": [
    "#Convertir DatFrame a CSV\n",
    "data2.to_csv('Rio_de_Janeiro_Brasil_sin_valores_nulos.csv')"
   ]
  }
 ],
 "metadata": {
  "kernelspec": {
   "display_name": "Python 3",
   "language": "python",
   "name": "python3"
  },
  "language_info": {
   "codemirror_mode": {
    "name": "ipython",
    "version": 3
   },
   "file_extension": ".py",
   "mimetype": "text/x-python",
   "name": "python",
   "nbconvert_exporter": "python",
   "pygments_lexer": "ipython3",
   "version": "3.13.1"
  }
 },
 "nbformat": 4,
 "nbformat_minor": 2
}
