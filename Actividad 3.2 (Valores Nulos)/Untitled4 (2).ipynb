{
  "cells": [
    {
      "cell_type": "code",
      "execution_count": 1,
      "metadata": {
        "id": "HFdoq0cXPyFI"
      },
      "outputs": [],
      "source": [
        "import pandas as pd\n",
        "import numpy as np\n",
        "import matplotlib.pyplot as plt\n",
        "import seaborn as sns"
      ]
    },
    {
      "cell_type": "code",
      "execution_count": 2,
      "metadata": {
        "colab": {
          "base_uri": "https://localhost:8080/",
          "height": 603
        },
        "id": "NRf2sCvGQETN",
        "outputId": "2a4ed2f7-9ff1-461e-e992-f589362a09c1"
      },
      "outputs": [
        {
          "data": {
            "text/html": [
              "<div>\n",
              "<style scoped>\n",
              "    .dataframe tbody tr th:only-of-type {\n",
              "        vertical-align: middle;\n",
              "    }\n",
              "\n",
              "    .dataframe tbody tr th {\n",
              "        vertical-align: top;\n",
              "    }\n",
              "\n",
              "    .dataframe thead th {\n",
              "        text-align: right;\n",
              "    }\n",
              "</style>\n",
              "<table border=\"1\" class=\"dataframe\">\n",
              "  <thead>\n",
              "    <tr style=\"text-align: right;\">\n",
              "      <th></th>\n",
              "      <th>last_scraped</th>\n",
              "      <th>source</th>\n",
              "      <th>name</th>\n",
              "      <th>description</th>\n",
              "      <th>neighborhood_overview</th>\n",
              "      <th>host_name</th>\n",
              "      <th>host_since</th>\n",
              "      <th>host_location</th>\n",
              "      <th>host_about</th>\n",
              "      <th>host_response_time</th>\n",
              "      <th>...</th>\n",
              "      <th>review_scores_rating</th>\n",
              "      <th>review_scores_accuracy</th>\n",
              "      <th>review_scores_cleanliness</th>\n",
              "      <th>review_scores_checkin</th>\n",
              "      <th>review_scores_communication</th>\n",
              "      <th>review_scores_location</th>\n",
              "      <th>review_scores_value</th>\n",
              "      <th>instant_bookable</th>\n",
              "      <th>calculated_host_listings_count</th>\n",
              "      <th>reviews_per_month</th>\n",
              "    </tr>\n",
              "  </thead>\n",
              "  <tbody>\n",
              "    <tr>\n",
              "      <th>0</th>\n",
              "      <td>25/09/2024</td>\n",
              "      <td>city scrape</td>\n",
              "      <td>Villa Dante</td>\n",
              "      <td>Dentro de Villa un estudio de arte con futon, ...</td>\n",
              "      <td>Santa Fe Mall, Interloma Park and the Lion Des...</td>\n",
              "      <td>Dici</td>\n",
              "      <td>28/06/2010</td>\n",
              "      <td>Mexico City, Mexico</td>\n",
              "      <td>Master in visual arts, film photography &amp; Mark...</td>\n",
              "      <td>a few days or more</td>\n",
              "      <td>...</td>\n",
              "      <td>NaN</td>\n",
              "      <td>NaN</td>\n",
              "      <td>NaN</td>\n",
              "      <td>NaN</td>\n",
              "      <td>NaN</td>\n",
              "      <td>NaN</td>\n",
              "      <td>NaN</td>\n",
              "      <td>f</td>\n",
              "      <td>1</td>\n",
              "      <td>NaN</td>\n",
              "    </tr>\n",
              "    <tr>\n",
              "      <th>1</th>\n",
              "      <td>26/09/2024</td>\n",
              "      <td>previous scrape</td>\n",
              "      <td>Condesa Haus</td>\n",
              "      <td>A new concept of hosting in mexico through a b...</td>\n",
              "      <td>NaN</td>\n",
              "      <td>Fernando</td>\n",
              "      <td>09/08/2010</td>\n",
              "      <td>Mexico City, Mexico</td>\n",
              "      <td>Condesa Haus  offers independent  studios and ...</td>\n",
              "      <td>within an hour</td>\n",
              "      <td>...</td>\n",
              "      <td>4.58</td>\n",
              "      <td>4.56</td>\n",
              "      <td>4.70</td>\n",
              "      <td>4.87</td>\n",
              "      <td>4.78</td>\n",
              "      <td>4.98</td>\n",
              "      <td>4.48</td>\n",
              "      <td>f</td>\n",
              "      <td>8</td>\n",
              "      <td>0.41</td>\n",
              "    </tr>\n",
              "    <tr>\n",
              "      <th>2</th>\n",
              "      <td>26/09/2024</td>\n",
              "      <td>city scrape</td>\n",
              "      <td>2 bedroom apt. deco bldg, Condesa</td>\n",
              "      <td>Comfortably furnished, sunny, 2 bedroom apt., ...</td>\n",
              "      <td>NaN</td>\n",
              "      <td>Nicholas</td>\n",
              "      <td>04/01/2011</td>\n",
              "      <td>Mexico City, Mexico</td>\n",
              "      <td>I am a journalist writing about food, (book an...</td>\n",
              "      <td>within an hour</td>\n",
              "      <td>...</td>\n",
              "      <td>4.90</td>\n",
              "      <td>4.81</td>\n",
              "      <td>4.75</td>\n",
              "      <td>4.94</td>\n",
              "      <td>4.92</td>\n",
              "      <td>4.98</td>\n",
              "      <td>4.91</td>\n",
              "      <td>f</td>\n",
              "      <td>2</td>\n",
              "      <td>0.31</td>\n",
              "    </tr>\n",
              "    <tr>\n",
              "      <th>3</th>\n",
              "      <td>25/09/2024</td>\n",
              "      <td>city scrape</td>\n",
              "      <td>Beautiful light Studio Coyoacan- full equipped !</td>\n",
              "      <td>COYOACAN designer studio quiet &amp; safe! well eq...</td>\n",
              "      <td>Coyoacan is a beautiful neighborhood famous fo...</td>\n",
              "      <td>Trisha</td>\n",
              "      <td>24/08/2010</td>\n",
              "      <td>Mexico City, Mexico</td>\n",
              "      <td>I am a mother, documentary film maker and phot...</td>\n",
              "      <td>within a few hours</td>\n",
              "      <td>...</td>\n",
              "      <td>4.91</td>\n",
              "      <td>4.90</td>\n",
              "      <td>4.96</td>\n",
              "      <td>4.96</td>\n",
              "      <td>4.98</td>\n",
              "      <td>4.96</td>\n",
              "      <td>4.92</td>\n",
              "      <td>f</td>\n",
              "      <td>3</td>\n",
              "      <td>0.83</td>\n",
              "    </tr>\n",
              "    <tr>\n",
              "      <th>4</th>\n",
              "      <td>25/09/2024</td>\n",
              "      <td>city scrape</td>\n",
              "      <td>NEW  DESIGNER LOFT</td>\n",
              "      <td>Is the best ever place triple L &lt;br /&gt;Location...</td>\n",
              "      <td>Is located in the best area of Mexico City, Po...</td>\n",
              "      <td>Andrea</td>\n",
              "      <td>27/04/2011</td>\n",
              "      <td>Mexico City, Mexico</td>\n",
              "      <td>I Leave in Mexico City... I am an Architect an...</td>\n",
              "      <td>within an hour</td>\n",
              "      <td>...</td>\n",
              "      <td>4.91</td>\n",
              "      <td>5.00</td>\n",
              "      <td>5.00</td>\n",
              "      <td>5.00</td>\n",
              "      <td>4.73</td>\n",
              "      <td>4.91</td>\n",
              "      <td>4.82</td>\n",
              "      <td>f</td>\n",
              "      <td>3</td>\n",
              "      <td>0.11</td>\n",
              "    </tr>\n",
              "  </tbody>\n",
              "</table>\n",
              "<p>5 rows × 50 columns</p>\n",
              "</div>"
            ],
            "text/plain": [
              "  last_scraped           source  \\\n",
              "0   25/09/2024      city scrape   \n",
              "1   26/09/2024  previous scrape   \n",
              "2   26/09/2024      city scrape   \n",
              "3   25/09/2024      city scrape   \n",
              "4   25/09/2024      city scrape   \n",
              "\n",
              "                                               name  \\\n",
              "0                                       Villa Dante   \n",
              "1                                      Condesa Haus   \n",
              "2                 2 bedroom apt. deco bldg, Condesa   \n",
              "3  Beautiful light Studio Coyoacan- full equipped !   \n",
              "4                                NEW  DESIGNER LOFT   \n",
              "\n",
              "                                         description  \\\n",
              "0  Dentro de Villa un estudio de arte con futon, ...   \n",
              "1  A new concept of hosting in mexico through a b...   \n",
              "2  Comfortably furnished, sunny, 2 bedroom apt., ...   \n",
              "3  COYOACAN designer studio quiet & safe! well eq...   \n",
              "4  Is the best ever place triple L <br />Location...   \n",
              "\n",
              "                               neighborhood_overview host_name  host_since  \\\n",
              "0  Santa Fe Mall, Interloma Park and the Lion Des...      Dici  28/06/2010   \n",
              "1                                                NaN  Fernando  09/08/2010   \n",
              "2                                                NaN  Nicholas  04/01/2011   \n",
              "3  Coyoacan is a beautiful neighborhood famous fo...    Trisha  24/08/2010   \n",
              "4  Is located in the best area of Mexico City, Po...    Andrea  27/04/2011   \n",
              "\n",
              "         host_location                                         host_about  \\\n",
              "0  Mexico City, Mexico  Master in visual arts, film photography & Mark...   \n",
              "1  Mexico City, Mexico  Condesa Haus  offers independent  studios and ...   \n",
              "2  Mexico City, Mexico  I am a journalist writing about food, (book an...   \n",
              "3  Mexico City, Mexico  I am a mother, documentary film maker and phot...   \n",
              "4  Mexico City, Mexico  I Leave in Mexico City... I am an Architect an...   \n",
              "\n",
              "   host_response_time  ... review_scores_rating review_scores_accuracy  \\\n",
              "0  a few days or more  ...                  NaN                    NaN   \n",
              "1      within an hour  ...                 4.58                   4.56   \n",
              "2      within an hour  ...                 4.90                   4.81   \n",
              "3  within a few hours  ...                 4.91                   4.90   \n",
              "4      within an hour  ...                 4.91                   5.00   \n",
              "\n",
              "  review_scores_cleanliness  review_scores_checkin  \\\n",
              "0                       NaN                    NaN   \n",
              "1                      4.70                   4.87   \n",
              "2                      4.75                   4.94   \n",
              "3                      4.96                   4.96   \n",
              "4                      5.00                   5.00   \n",
              "\n",
              "   review_scores_communication review_scores_location review_scores_value  \\\n",
              "0                          NaN                    NaN                 NaN   \n",
              "1                         4.78                   4.98                4.48   \n",
              "2                         4.92                   4.98                4.91   \n",
              "3                         4.98                   4.96                4.92   \n",
              "4                         4.73                   4.91                4.82   \n",
              "\n",
              "  instant_bookable calculated_host_listings_count reviews_per_month  \n",
              "0                f                              1               NaN  \n",
              "1                f                              8              0.41  \n",
              "2                f                              2              0.31  \n",
              "3                f                              3              0.83  \n",
              "4                f                              3              0.11  \n",
              "\n",
              "[5 rows x 50 columns]"
            ]
          },
          "execution_count": 2,
          "metadata": {},
          "output_type": "execute_result"
        }
      ],
      "source": [
        "data = pd.read_csv(\"Mexico.csv\", encoding='latin-1')\n",
        "data.head(5)"
      ]
    },
    {
      "cell_type": "code",
      "execution_count": 3,
      "metadata": {
        "colab": {
          "base_uri": "https://localhost:8080/"
        },
        "id": "7TR8xOCyYAxu",
        "outputId": "937421db-46c4-40c5-9ec9-04b563384709"
      },
      "outputs": [
        {
          "name": "stdout",
          "output_type": "stream",
          "text": [
            "<class 'pandas.core.frame.DataFrame'>\n",
            "RangeIndex: 26582 entries, 0 to 26581\n",
            "Data columns (total 50 columns):\n",
            " #   Column                          Non-Null Count  Dtype  \n",
            "---  ------                          --------------  -----  \n",
            " 0   last_scraped                    26582 non-null  object \n",
            " 1   source                          26582 non-null  object \n",
            " 2   name                            26582 non-null  object \n",
            " 3   description                     25649 non-null  object \n",
            " 4   neighborhood_overview           15687 non-null  object \n",
            " 5   host_name                       26582 non-null  object \n",
            " 6   host_since                      26582 non-null  object \n",
            " 7   host_location                   21141 non-null  object \n",
            " 8   host_about                      15617 non-null  object \n",
            " 9   host_response_time              22960 non-null  object \n",
            " 10  host_response_rate              22960 non-null  object \n",
            " 11  host_acceptance_rate            23713 non-null  object \n",
            " 12  host_is_superhost               25073 non-null  object \n",
            " 13  host_listings_count             26582 non-null  int64  \n",
            " 14  host_total_listings_count       26582 non-null  int64  \n",
            " 15  host_verifications              26582 non-null  object \n",
            " 16  host_has_profile_pic            26582 non-null  object \n",
            " 17  host_identity_verified          26582 non-null  object \n",
            " 18  neighbourhood_cleansed          26582 non-null  object \n",
            " 19  property_type                   26582 non-null  object \n",
            " 20  room_type                       26582 non-null  object \n",
            " 21  accommodates                    26582 non-null  int64  \n",
            " 22  bathrooms                       23667 non-null  float64\n",
            " 23  bedrooms                        25716 non-null  float64\n",
            " 24  beds                            23629 non-null  float64\n",
            " 25  amenities                       26582 non-null  object \n",
            " 26  price                           23655 non-null  object \n",
            " 27  minimum_nights                  26582 non-null  int64  \n",
            " 28  maximum_nights                  26582 non-null  int64  \n",
            " 29  minimum_nights_avg_ntm          26582 non-null  float64\n",
            " 30  maximum_nights_avg_ntm          26582 non-null  float64\n",
            " 31  has_availability                25574 non-null  object \n",
            " 32  availability_30                 26582 non-null  int64  \n",
            " 33  availability_60                 26582 non-null  int64  \n",
            " 34  availability_90                 26582 non-null  int64  \n",
            " 35  availability_365                26582 non-null  int64  \n",
            " 36  number_of_reviews_ltm           26582 non-null  int64  \n",
            " 37  number_of_reviews_l30d          26582 non-null  int64  \n",
            " 38  first_review                    22926 non-null  object \n",
            " 39  last_review                     22926 non-null  object \n",
            " 40  review_scores_rating            22926 non-null  float64\n",
            " 41  review_scores_accuracy          22925 non-null  float64\n",
            " 42  review_scores_cleanliness       22925 non-null  float64\n",
            " 43  review_scores_checkin           22925 non-null  float64\n",
            " 44  review_scores_communication     22925 non-null  float64\n",
            " 45  review_scores_location          22925 non-null  float64\n",
            " 46  review_scores_value             22925 non-null  float64\n",
            " 47  instant_bookable                26582 non-null  object \n",
            " 48  calculated_host_listings_count  26582 non-null  int64  \n",
            " 49  reviews_per_month               22926 non-null  float64\n",
            "dtypes: float64(13), int64(12), object(25)\n",
            "memory usage: 10.1+ MB\n"
          ]
        }
      ],
      "source": [
        "data.info()"
      ]
    },
    {
      "cell_type": "code",
      "execution_count": 4,
      "metadata": {
        "colab": {
          "base_uri": "https://localhost:8080/",
          "height": 1000
        },
        "id": "lM3HWhQ1SiqC",
        "outputId": "6f4426ae-4a09-457f-fcf1-da9bc523121d"
      },
      "outputs": [
        {
          "data": {
            "text/plain": [
              "last_scraped                          0\n",
              "source                                0\n",
              "name                                  0\n",
              "description                         933\n",
              "neighborhood_overview             10895\n",
              "host_name                             0\n",
              "host_since                            0\n",
              "host_location                      5441\n",
              "host_about                        10965\n",
              "host_response_time                 3622\n",
              "host_response_rate                 3622\n",
              "host_acceptance_rate               2869\n",
              "host_is_superhost                  1509\n",
              "host_listings_count                   0\n",
              "host_total_listings_count             0\n",
              "host_verifications                    0\n",
              "host_has_profile_pic                  0\n",
              "host_identity_verified                0\n",
              "neighbourhood_cleansed                0\n",
              "property_type                         0\n",
              "room_type                             0\n",
              "accommodates                          0\n",
              "bathrooms                          2915\n",
              "bedrooms                            866\n",
              "beds                               2953\n",
              "amenities                             0\n",
              "price                              2927\n",
              "minimum_nights                        0\n",
              "maximum_nights                        0\n",
              "minimum_nights_avg_ntm                0\n",
              "maximum_nights_avg_ntm                0\n",
              "has_availability                   1008\n",
              "availability_30                       0\n",
              "availability_60                       0\n",
              "availability_90                       0\n",
              "availability_365                      0\n",
              "number_of_reviews_ltm                 0\n",
              "number_of_reviews_l30d                0\n",
              "first_review                       3656\n",
              "last_review                        3656\n",
              "review_scores_rating               3656\n",
              "review_scores_accuracy             3657\n",
              "review_scores_cleanliness          3657\n",
              "review_scores_checkin              3657\n",
              "review_scores_communication        3657\n",
              "review_scores_location             3657\n",
              "review_scores_value                3657\n",
              "instant_bookable                      0\n",
              "calculated_host_listings_count        0\n",
              "reviews_per_month                  3656\n",
              "dtype: int64"
            ]
          },
          "execution_count": 4,
          "metadata": {},
          "output_type": "execute_result"
        }
      ],
      "source": [
        "valores_nulos=data.isnull().sum()\n",
        "valores_nulos"
      ]
    },
    {
      "cell_type": "code",
      "execution_count": 5,
      "metadata": {
        "id": "_O77y1g4SpN0"
      },
      "outputs": [],
      "source": [
        "#vamos a estar usando data2 para los filtros\n",
        "data2=data.copy()"
      ]
    },
    {
      "cell_type": "code",
      "execution_count": 6,
      "metadata": {
        "id": "c2O49X7oNCUT"
      },
      "outputs": [],
      "source": [
        "#Description\n",
        "#Rellenamos aquellas valores nulos con una descripcion especifica que puede quedar\n",
        "#muy bien con cualquier propiedad\n",
        "data2[\"description\"]=data2[\"description\"].fillna(\"Your best option to stay if you want to visit Mexican lands and enjoy your stay to the fullest without worrying about comfort\")"
      ]
    },
    {
      "cell_type": "code",
      "execution_count": 7,
      "metadata": {
        "id": "7th8qZQEOD3X"
      },
      "outputs": [],
      "source": [
        "#neighborhood_overview\n",
        "#Rellenamos aquellas valores nulos con una descripcion especifica que puede quedar\n",
        "#muy bien con cualquier vecindario de México\n",
        "data2[\"neighborhood_overview\"]=data2[\"neighborhood_overview\"].fillna(\"Quiet and safe area, with the characteristics of a typical neighborhood in Mexico City area of Mexico City.\")"
      ]
    },
    {
      "cell_type": "code",
      "execution_count": 8,
      "metadata": {
        "id": "GRm54l6yOBPg"
      },
      "outputs": [],
      "source": [
        "#host_location\n",
        "#Como estamos tratando los datos de la ciudad de México, aquellos valores nulos\n",
        "#los rellenamos con el valor \"Mexico City, Mexico\"\n",
        "data2[\"host_location\"]=data2[\"host_location\"].fillna(\"Mexico City, Mexico\")\n"
      ]
    },
    {
      "cell_type": "code",
      "execution_count": 9,
      "metadata": {
        "id": "C6wULNKcOJoY"
      },
      "outputs": [],
      "source": [
        "#host_about\n",
        "#Rellenamos aquellas valores nulos con una descripcion especifica\n",
        "#acerca de un host amable\n",
        "data2[\"host_about\"]=data2[\"host_about\"].fillna(\"I am a social person, who likes to provide the best customer service, give them advice and recommendations, so that they have everything they are looking for in a suite so that they feel comfortable and at home.\")\n"
      ]
    },
    {
      "cell_type": "code",
      "execution_count": 10,
      "metadata": {
        "id": "x0fpwlqcOKAw"
      },
      "outputs": [],
      "source": [
        "#host_response_time\n",
        "#Ya que la mayoria de los host tienen un tiempo de respuesta de un día\n",
        "#decidimos rellenar aquellos valores nulos con \"within a day\"\n",
        "data2[\"host_response_time\"]=data2[\"host_response_time\"].fillna(\"within a day\")\n"
      ]
    },
    {
      "cell_type": "code",
      "execution_count": 11,
      "metadata": {
        "id": "iPNlVxDpOKOM"
      },
      "outputs": [],
      "source": [
        "#host_response_rate\n",
        "# en este caso los datos contenían un simbolo % que no nos permitia obtener\n",
        "#el promedio de los datos por lo que primero eliminamos ese simbolo\n",
        "data2['host_response_rate'] = data2['host_response_rate'].astype(str)\n",
        "\n",
        "#convertir a tipo numérico (float)\n",
        "host_response_numeric = data2['host_response_rate'].str.rstrip('%').astype(float)\n",
        "\n",
        "# Calcular el promedio ignorando valores nulos\n",
        "mean_response_rate = host_response_numeric.mean()\n",
        "\n",
        "#rellenamos los valores nulos con el promedio que obtuvimos de los datos\n",
        "host_response_numeric = host_response_numeric.fillna(mean_response_rate)\n",
        "\n",
        "# Convertir nuevamente a formato de porcentaje y actualizar la columna original\n",
        "data2['host_response_rate'] = host_response_numeric.apply(lambda x: f\"{x:.0f}%\")\n",
        "\n",
        "\n"
      ]
    },
    {
      "cell_type": "code",
      "execution_count": 12,
      "metadata": {
        "id": "jyNpl0VuOKj3"
      },
      "outputs": [],
      "source": [
        "#host_acceptance_rate\n",
        "# en este caso los datos contenían un simbolo % que no nos permitia obtener\n",
        "#el promedio de los datos por lo que primero eliminamos ese simbolo\n",
        "data2['host_acceptance_rate'] = data2['host_acceptance_rate'].astype(str)\n",
        "\n",
        "#convertir a tipo numérico (float)\n",
        "host_acceptance_numeric = data2['host_acceptance_rate'].str.rstrip('%').astype(float)\n",
        "\n",
        "# Calcular el promedio ignorando valores nulos\n",
        "mean_acceptance_rate = host_acceptance_numeric.mean()\n",
        "\n",
        "#rellenamos los valores nulos con el promedio que obtuvimos de los datos\n",
        "host_acceptance_numeric = host_acceptance_numeric.fillna(mean_acceptance_rate)\n",
        "\n",
        "# Convertir nuevamente a formato de porcentaje y actualizar la columna original\n",
        "data2['host_acceptance_rate'] = host_acceptance_numeric.apply(lambda x: f\"{x:.0f}%\")"
      ]
    },
    {
      "cell_type": "code",
      "execution_count": 13,
      "metadata": {
        "id": "LkEYep38OTWJ"
      },
      "outputs": [],
      "source": [
        "#host_is_superhost\n",
        "#ya que para ser superhost se necesitan verificaciones es mejor\n",
        "#rellenar aquellos valores nulos con false\n",
        "data2[\"host_is_superhost\"]=data2[\"host_is_superhost\"].fillna(\"f\")"
      ]
    },
    {
      "cell_type": "code",
      "execution_count": 14,
      "metadata": {
        "colab": {
          "base_uri": "https://localhost:8080/",
          "height": 1000
        },
        "id": "HOnTZ5TcUNF3",
        "outputId": "caa04d52-d3ba-4944-b802-923073f107be"
      },
      "outputs": [
        {
          "data": {
            "text/plain": [
              "last_scraped                         0\n",
              "source                               0\n",
              "name                                 0\n",
              "description                          0\n",
              "neighborhood_overview                0\n",
              "host_name                            0\n",
              "host_since                           0\n",
              "host_location                        0\n",
              "host_about                           0\n",
              "host_response_time                   0\n",
              "host_response_rate                   0\n",
              "host_acceptance_rate                 0\n",
              "host_is_superhost                    0\n",
              "host_listings_count                  0\n",
              "host_total_listings_count            0\n",
              "host_verifications                   0\n",
              "host_has_profile_pic                 0\n",
              "host_identity_verified               0\n",
              "neighbourhood_cleansed               0\n",
              "property_type                        0\n",
              "room_type                            0\n",
              "accommodates                         0\n",
              "bathrooms                         2915\n",
              "bedrooms                           866\n",
              "beds                              2953\n",
              "amenities                            0\n",
              "price                             2927\n",
              "minimum_nights                       0\n",
              "maximum_nights                       0\n",
              "minimum_nights_avg_ntm               0\n",
              "maximum_nights_avg_ntm               0\n",
              "has_availability                  1008\n",
              "availability_30                      0\n",
              "availability_60                      0\n",
              "availability_90                      0\n",
              "availability_365                     0\n",
              "number_of_reviews_ltm                0\n",
              "number_of_reviews_l30d               0\n",
              "first_review                      3656\n",
              "last_review                       3656\n",
              "review_scores_rating              3656\n",
              "review_scores_accuracy            3657\n",
              "review_scores_cleanliness         3657\n",
              "review_scores_checkin             3657\n",
              "review_scores_communication       3657\n",
              "review_scores_location            3657\n",
              "review_scores_value               3657\n",
              "instant_bookable                     0\n",
              "calculated_host_listings_count       0\n",
              "reviews_per_month                 3656\n",
              "dtype: int64"
            ]
          },
          "execution_count": 14,
          "metadata": {},
          "output_type": "execute_result"
        }
      ],
      "source": [
        "valores_nulos=data2.isnull().sum()\n",
        "valores_nulos"
      ]
    },
    {
      "cell_type": "code",
      "execution_count": 15,
      "metadata": {
        "id": "5RGmxfirTfWS"
      },
      "outputs": [],
      "source": [
        "#BATHROOMS\n",
        "#usamos median para no alterar significativamente los datos\n",
        "data2[\"bathrooms\"]=data2[\"bathrooms\"].fillna(round(data[\"bathrooms\"].median(),1))"
      ]
    },
    {
      "cell_type": "code",
      "execution_count": 16,
      "metadata": {
        "id": "oumIGBdg28Hf"
      },
      "outputs": [],
      "source": [
        "#BEDROOMS\n",
        "#usamos median para no alterar significativamente los datos\n",
        "data2[\"bedrooms\"]=data2[\"bedrooms\"].fillna(round(data[\"bedrooms\"].median(),1))"
      ]
    },
    {
      "cell_type": "code",
      "execution_count": 17,
      "metadata": {
        "id": "GtWEg7JL4VxZ"
      },
      "outputs": [],
      "source": [
        "#BEDS\n",
        "#usamos median para no alterar significativamente los datos\n",
        "data2[\"beds\"]=data2[\"beds\"].fillna(round(data[\"beds\"].median(),1))"
      ]
    },
    {
      "cell_type": "code",
      "execution_count": 18,
      "metadata": {
        "id": "oyXuY4z54quO"
      },
      "outputs": [
        {
          "name": "stderr",
          "output_type": "stream",
          "text": [
            "<>:6: SyntaxWarning: invalid escape sequence '\\$'\n",
            "<>:6: SyntaxWarning: invalid escape sequence '\\$'\n",
            "C:\\Users\\Usuario-Huawei\\AppData\\Local\\Temp\\ipykernel_18268\\338424333.py:6: SyntaxWarning: invalid escape sequence '\\$'\n",
            "  data2[\"price\"] = data2[\"price\"].str.replace('[\\$,]', '', regex=True)\n"
          ]
        }
      ],
      "source": [
        "#PRICE\n",
        "#usamos median porque los numeros son muy grandes\n",
        "#asegurar que todos los valores sean cadenas\n",
        "data2[\"price\"] = data2[\"price\"].astype(str)\n",
        "#Eliminar las simbolos no numericos $ ,\n",
        "data2[\"price\"] = data2[\"price\"].str.replace('[\\$,]', '', regex=True)\n",
        "#Convertir a numérico\n",
        "data2[\"price\"] = pd.to_numeric(data2[\"price\"], errors='coerce')\n",
        "data2[\"price\"] = data2[\"price\"].fillna(round(data2[\"price\"].median(), 1))\n",
        "\n"
      ]
    },
    {
      "cell_type": "code",
      "execution_count": 22,
      "metadata": {
        "id": "tgfgy0ALG8Xs"
      },
      "outputs": [],
      "source": [
        "#has_availability la mayoria es t agregamos ese valor en especifico\n",
        "#ya que para ser has_hability se necesitan verificaciones es mejor\n",
        "#rellenar aquellos valores nulos con false para no perjudicar los que son true\n",
        "data2[\"has_availability\"]=data2[\"has_availability\"].fillna(\"f\")"
      ]
    },
    {
      "cell_type": "code",
      "execution_count": 23,
      "metadata": {
        "id": "t5KYswtCdcfY"
      },
      "outputs": [],
      "source": [
        "#first_review rellenar con una fecha con la que sepan que no hay review y se tome como inexistente\n",
        "data2[\"first_review\"] = data2[\"first_review\"].fillna(pd.Timestamp(\"1900-01-01\"))"
      ]
    },
    {
      "cell_type": "code",
      "execution_count": 24,
      "metadata": {
        "id": "vnLoZ8DJdhXG"
      },
      "outputs": [],
      "source": [
        "#first_review rellenar con una fecha con la que sepan que no hay review y se tome como inexistente\n",
        "data2[\"last_review\"] = data2[\"last_review\"].fillna(pd.Timestamp(\"1900-01-01\"))"
      ]
    },
    {
      "cell_type": "code",
      "execution_count": 25,
      "metadata": {
        "id": "lwpDdiG7dqwD"
      },
      "outputs": [],
      "source": [
        "#review_scores_rating\n",
        "#usamos median para no alterar significativamente los datos\n",
        "data2[\"review_scores_rating\"]=data2[\"review_scores_rating\"].fillna(round(data[\"review_scores_rating\"].median(),1))"
      ]
    },
    {
      "cell_type": "code",
      "execution_count": 26,
      "metadata": {
        "colab": {
          "base_uri": "https://localhost:8080/",
          "height": 1000
        },
        "id": "m0C5qa7nesAl",
        "outputId": "8569dd39-41ce-42b3-f651-3f4a950ab047"
      },
      "outputs": [
        {
          "data": {
            "text/plain": [
              "last_scraped                         0\n",
              "source                               0\n",
              "name                                 0\n",
              "description                          0\n",
              "neighborhood_overview                0\n",
              "host_name                            0\n",
              "host_since                           0\n",
              "host_location                        0\n",
              "host_about                           0\n",
              "host_response_time                   0\n",
              "host_response_rate                   0\n",
              "host_acceptance_rate                 0\n",
              "host_is_superhost                    0\n",
              "host_listings_count                  0\n",
              "host_total_listings_count            0\n",
              "host_verifications                   0\n",
              "host_has_profile_pic                 0\n",
              "host_identity_verified               0\n",
              "neighbourhood_cleansed               0\n",
              "property_type                        0\n",
              "room_type                            0\n",
              "accommodates                         0\n",
              "bathrooms                            0\n",
              "bedrooms                             0\n",
              "beds                                 0\n",
              "amenities                            0\n",
              "price                                0\n",
              "minimum_nights                       0\n",
              "maximum_nights                       0\n",
              "minimum_nights_avg_ntm               0\n",
              "maximum_nights_avg_ntm               0\n",
              "has_availability                     0\n",
              "availability_30                      0\n",
              "availability_60                      0\n",
              "availability_90                      0\n",
              "availability_365                     0\n",
              "number_of_reviews_ltm                0\n",
              "number_of_reviews_l30d               0\n",
              "first_review                         0\n",
              "last_review                          0\n",
              "review_scores_rating                 0\n",
              "review_scores_accuracy            3657\n",
              "review_scores_cleanliness         3657\n",
              "review_scores_checkin             3657\n",
              "review_scores_communication       3657\n",
              "review_scores_location            3657\n",
              "review_scores_value               3657\n",
              "instant_bookable                     0\n",
              "calculated_host_listings_count       0\n",
              "reviews_per_month                 3656\n",
              "dtype: int64"
            ]
          },
          "execution_count": 26,
          "metadata": {},
          "output_type": "execute_result"
        }
      ],
      "source": [
        "valores_nulos=data2.isnull().sum()\n",
        "valores_nulos"
      ]
    },
    {
      "cell_type": "code",
      "execution_count": 27,
      "metadata": {
        "colab": {
          "base_uri": "https://localhost:8080/"
        },
        "id": "go9VEUf7EX9r",
        "outputId": "4c229610-bdd6-4249-a0d8-b39c958d501f"
      },
      "outputs": [
        {
          "data": {
            "text/plain": [
              "np.int64(0)"
            ]
          },
          "execution_count": 27,
          "metadata": {},
          "output_type": "execute_result"
        }
      ],
      "source": [
        "#sustituir valores nulos de review_scores_accuracy con mediana\n",
        "data2[\"review_scores_accuracy\"]=data2[\"review_scores_accuracy\"].fillna(round(data[\"review_scores_accuracy\"].median(),1))\n",
        "\n",
        "#corrroborar valor nulo\n",
        "valores_nulos_columna=data2[\"review_scores_accuracy\"].isnull().sum()\n",
        "valores_nulos_columna"
      ]
    },
    {
      "cell_type": "code",
      "execution_count": 28,
      "metadata": {
        "colab": {
          "base_uri": "https://localhost:8080/"
        },
        "id": "x2qp5hafEyL2",
        "outputId": "d5423e8c-e986-4de1-981e-4e5111f16cfa"
      },
      "outputs": [
        {
          "data": {
            "text/plain": [
              "np.int64(0)"
            ]
          },
          "execution_count": 28,
          "metadata": {},
          "output_type": "execute_result"
        }
      ],
      "source": [
        "#sustituir valores nulos de review_scores_cleanliness con mediana\n",
        "#primer metodo de sustitucion de valores null\n",
        "#sustituir valores null con promedio o media\n",
        "data2[\"review_scores_cleanliness\"]=data2[\"review_scores_cleanliness\"].fillna(round(data[\"review_scores_cleanliness\"].mean(),1))\n",
        "\n",
        "\n",
        "#corrroborar valor nulo\n",
        "valores_nulos_columna=data2[\"review_scores_cleanliness\"].isnull().sum()\n",
        "valores_nulos_columna"
      ]
    },
    {
      "cell_type": "code",
      "execution_count": 29,
      "metadata": {
        "colab": {
          "base_uri": "https://localhost:8080/"
        },
        "id": "etjY-FGsE-90",
        "outputId": "3e0ee496-3017-453c-d86a-f9394f3346c0"
      },
      "outputs": [
        {
          "data": {
            "text/plain": [
              "np.int64(0)"
            ]
          },
          "execution_count": 29,
          "metadata": {},
          "output_type": "execute_result"
        }
      ],
      "source": [
        "#sustituir valores nulos de review_scores_checkin con mediana\n",
        "data2[\"review_scores_checkin\"]=data2[\"review_scores_checkin\"].fillna(round(data[\"review_scores_checkin\"].median(),1))\n",
        "\n",
        "#corrroborar valor nulo\n",
        "valores_nulos_columna=data2[\"review_scores_checkin\"].isnull().sum()\n",
        "valores_nulos_columna"
      ]
    },
    {
      "cell_type": "code",
      "execution_count": 30,
      "metadata": {
        "colab": {
          "base_uri": "https://localhost:8080/"
        },
        "id": "ynNJ4RZAXqD4",
        "outputId": "5dbd7ec4-cfa0-473c-f169-3138b2db2d94"
      },
      "outputs": [
        {
          "data": {
            "text/plain": [
              "np.int64(0)"
            ]
          },
          "execution_count": 30,
          "metadata": {},
          "output_type": "execute_result"
        }
      ],
      "source": [
        "#sustituir valores nulos de review_scores_comunicación con mediana\n",
        "data2[\"review_scores_communication\"]=data2[\"review_scores_communication\"].fillna(round(data[\"review_scores_communication\"].median(),1))\n",
        "\n",
        "#corrroborar valor nulo\n",
        "valores_nulos_columna=data2[\"review_scores_communication\"].isnull().sum()\n",
        "valores_nulos_columna"
      ]
    },
    {
      "cell_type": "code",
      "execution_count": 31,
      "metadata": {
        "colab": {
          "base_uri": "https://localhost:8080/"
        },
        "id": "VMWYo5DzXttm",
        "outputId": "0a610724-8b5c-4304-a86a-51fbf9c1811d"
      },
      "outputs": [
        {
          "data": {
            "text/plain": [
              "np.int64(0)"
            ]
          },
          "execution_count": 31,
          "metadata": {},
          "output_type": "execute_result"
        }
      ],
      "source": [
        "#sustituir valores nulos de review_scores_location con mediana\n",
        "data2[\"review_scores_location\"]=data2[\"review_scores_location\"].fillna(round(data[\"review_scores_location\"].median(),1))\n",
        "\n",
        "#corrroborar valor nulo\n",
        "valores_nulos_columna=data2[\"review_scores_location\"].isnull().sum()\n",
        "valores_nulos_columna"
      ]
    },
    {
      "cell_type": "code",
      "execution_count": 32,
      "metadata": {
        "colab": {
          "base_uri": "https://localhost:8080/"
        },
        "id": "I8f_7gmmXwCh",
        "outputId": "118dc5a8-78cc-4ff2-821e-1fa3a1d6f7cf"
      },
      "outputs": [
        {
          "data": {
            "text/plain": [
              "np.int64(0)"
            ]
          },
          "execution_count": 32,
          "metadata": {},
          "output_type": "execute_result"
        }
      ],
      "source": [
        "#primer metodo de sustitucion de valores null\n",
        "#sustituir valores null con promedio o media\n",
        "data2[\"review_scores_value\"]=data2[\"review_scores_value\"].fillna(round(data[\"review_scores_value\"].mean(),1))\n",
        "\n",
        "\n",
        "#corrroborar valor nulo\n",
        "valores_nulos_columna=data2[\"review_scores_value\"].isnull().sum()\n",
        "valores_nulos_columna"
      ]
    },
    {
      "cell_type": "code",
      "execution_count": null,
      "metadata": {
        "colab": {
          "base_uri": "https://localhost:8080/",
          "height": 1000
        },
        "id": "ReCVQQgnXydJ",
        "outputId": "815af832-3e62-43e5-84d9-2594599e0acc"
      },
      "outputs": [
        {
          "data": {
            "text/plain": [
              "last_scraped                      0\n",
              "source                            0\n",
              "name                              0\n",
              "description                       0\n",
              "neighborhood_overview             0\n",
              "host_name                         0\n",
              "host_since                        0\n",
              "host_location                     0\n",
              "host_about                        0\n",
              "host_response_time                0\n",
              "host_response_rate                0\n",
              "host_acceptance_rate              0\n",
              "host_is_superhost                 0\n",
              "host_listings_count               0\n",
              "host_total_listings_count         0\n",
              "host_verifications                0\n",
              "host_has_profile_pic              0\n",
              "host_identity_verified            0\n",
              "neighbourhood_cleansed            0\n",
              "property_type                     0\n",
              "room_type                         0\n",
              "accommodates                      0\n",
              "bathrooms                         0\n",
              "bedrooms                          0\n",
              "beds                              0\n",
              "amenities                         0\n",
              "price                             0\n",
              "minimum_nights                    0\n",
              "maximum_nights                    0\n",
              "minimum_nights_avg_ntm            0\n",
              "maximum_nights_avg_ntm            0\n",
              "has_availability                  0\n",
              "availability_30                   0\n",
              "availability_60                   0\n",
              "availability_90                   0\n",
              "availability_365                  0\n",
              "number_of_reviews_ltm             0\n",
              "number_of_reviews_l30d            0\n",
              "first_review                      0\n",
              "last_review                       0\n",
              "review_scores_rating              0\n",
              "review_scores_accuracy            0\n",
              "review_scores_cleanliness         0\n",
              "review_scores_checkin             0\n",
              "review_scores_communication       0\n",
              "review_scores_location            0\n",
              "review_scores_value               0\n",
              "instant_bookable                  0\n",
              "calculated_host_listings_count    0\n",
              "reviews_per_month                 0\n",
              "dtype: int64"
            ]
          },
          "execution_count": 33,
          "metadata": {},
          "output_type": "execute_result"
        }
      ],
      "source": [
        "\n",
        "data2[\"reviews_per_month\"]=data2[\"reviews_per_month\"].fillna(round(data[\"reviews_per_month\"].median(),1))\n",
        "\n",
        "#corrobora valor nulo\n",
        "valores_nulos=data2.isnull().sum()\n",
        "valores_nulos"
      ]
    },
    {
      "cell_type": "code",
      "execution_count": 34,
      "metadata": {},
      "outputs": [],
      "source": [
        "data2.to_csv('Mexico_sin_nulos.csv')"
      ]
    }
  ],
  "metadata": {
    "colab": {
      "provenance": []
    },
    "kernelspec": {
      "display_name": "Python 3",
      "name": "python3"
    },
    "language_info": {
      "codemirror_mode": {
        "name": "ipython",
        "version": 3
      },
      "file_extension": ".py",
      "mimetype": "text/x-python",
      "name": "python",
      "nbconvert_exporter": "python",
      "pygments_lexer": "ipython3",
      "version": "3.13.1"
    }
  },
  "nbformat": 4,
  "nbformat_minor": 0
}
